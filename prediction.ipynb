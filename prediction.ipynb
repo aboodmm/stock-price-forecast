{
 "cells": [
  {
   "attachments": {},
   "cell_type": "markdown",
   "metadata": {},
   "source": [
    "##### Stock price prediction on one year of NVIDIA prices \n",
    "\n",
    "Data source: https://finance.yahoo.com/quote/NVDA/history?p=NVDA\n",
    "\n",
    "Time Period: May 25, 2022 - May 25, 2023"
   ]
  },
  {
   "attachments": {},
   "cell_type": "markdown",
   "metadata": {},
   "source": [
    "##### Cleaning the CSV data and removing unnecessary columns"
   ]
  },
  {
   "cell_type": "code",
   "execution_count": 6,
   "metadata": {},
   "outputs": [
    {
     "name": "stdout",
     "output_type": "stream",
     "text": [
      "NVDA_clean.csv is empty, proceeding to clean input file\n"
     ]
    }
   ],
   "source": [
    "import os\n",
    "\n",
    "INPUT_FNAME = \"NVDA.csv\"\n",
    "OUTPUT_FNAME = \"NVDA_clean.csv\"\n",
    "\n",
    "inputfile = open(INPUT_FNAME, \"r\")\n",
    "\n",
    "outputfile = open(OUTPUT_FNAME, \"w\")\n",
    "\n",
    "if os.stat(OUTPUT_FNAME).st_size == 0:\n",
    "    print(OUTPUT_FNAME, \"is empty, proceeding to clean input file\")"
   ]
  }
 ],
 "metadata": {
  "kernelspec": {
   "display_name": "Python 3",
   "language": "python",
   "name": "python3"
  },
  "language_info": {
   "codemirror_mode": {
    "name": "ipython",
    "version": 3
   },
   "file_extension": ".py",
   "mimetype": "text/x-python",
   "name": "python",
   "nbconvert_exporter": "python",
   "pygments_lexer": "ipython3",
   "version": "3.11.3"
  },
  "orig_nbformat": 4
 },
 "nbformat": 4,
 "nbformat_minor": 2
}
