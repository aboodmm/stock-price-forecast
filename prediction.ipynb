{
 "cells": [
  {
   "attachments": {},
   "cell_type": "markdown",
   "metadata": {},
   "source": [
    "##### Stock price prediction on one year of NVIDIA prices \n",
    "\n",
    "Data source: https://finance.yahoo.com/quote/NVDA/history?p=NVDA\n",
    "\n",
    "Time Period: May 25, 2022 - May 25, 2023"
   ]
  },
  {
   "attachments": {},
   "cell_type": "markdown",
   "metadata": {},
   "source": [
    "##### Cleaning the CSV data and removing unnecessary columns"
   ]
  },
  {
   "cell_type": "code",
   "execution_count": 1,
   "metadata": {},
   "outputs": [
    {
     "name": "stdout",
     "output_type": "stream",
     "text": [
      "File is empty\n"
     ]
    }
   ],
   "source": [
    "import os\n",
    "\n",
    "nvda = open(\"NVDA.csv\", \"r\")\n",
    "\n",
    "nvda_clean = open(\"NVDA_clean.csv\", \"w+\")\n",
    "\n",
    "if os.stat(\"NVDA_clean.csv\").st_size == 0:\n",
    "    print(\"File is empty\")"
   ]
  }
 ],
 "metadata": {
  "kernelspec": {
   "display_name": "Python 3",
   "language": "python",
   "name": "python3"
  },
  "language_info": {
   "codemirror_mode": {
    "name": "ipython",
    "version": 3
   },
   "file_extension": ".py",
   "mimetype": "text/x-python",
   "name": "python",
   "nbconvert_exporter": "python",
   "pygments_lexer": "ipython3",
   "version": "3.11.3"
  },
  "orig_nbformat": 4
 },
 "nbformat": 4,
 "nbformat_minor": 2
}
