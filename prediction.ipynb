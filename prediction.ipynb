{
 "cells": [
  {
   "attachments": {},
   "cell_type": "markdown",
   "metadata": {},
   "source": [
    "##### Stock price prediction on one year of NVIDIA prices \n",
    "\n",
    "CSV data downloaded from Yahoo Finance: https://finance.yahoo.com/quote/NVDA/history?p=NVDA\n",
    "\n",
    "Time Period: May 25, 2022 - May 25, 2023"
   ]
  },
  {
   "attachments": {},
   "cell_type": "markdown",
   "metadata": {},
   "source": [
    "##### Cleaning the CSV data and removing unnecessary columns"
   ]
  },
  {
   "cell_type": "code",
   "execution_count": 2,
   "metadata": {},
   "outputs": [
    {
     "name": "stdout",
     "output_type": "stream",
     "text": [
      "NVDA_clean.csv is empty, proceeding to clean input file\n"
     ]
    }
   ],
   "source": [
    "import os,csv\n",
    "\n",
    "INPUT_FNAME = \"NVDA.csv\"\n",
    "OUTPUT_FNAME = \"NVDA_clean.csv\"\n",
    "\n",
    "inputfile = open(INPUT_FNAME, \"r\")\n",
    "\n",
    "outputfile = open(OUTPUT_FNAME, \"w\")\n",
    "\n",
    "if os.stat(OUTPUT_FNAME).st_size == 0:\n",
    "    print(OUTPUT_FNAME, \"is empty, proceeding to clean input file\")\n",
    "    reader = csv.reader(inputfile)\n",
    "    for i, line in enumerate(reader):\n",
    "        outputfile.write(\",\".join([line[0], line[4]]))\n",
    "        outputfile.write(\"\\n\")\n",
    "    outputfile.close()"
   ]
  },
  {
   "attachments": {},
   "cell_type": "markdown",
   "metadata": {},
   "source": [
    "#### Plot the sanitized data"
   ]
  },
  {
   "cell_type": "code",
   "execution_count": 3,
   "metadata": {},
   "outputs": [
    {
     "ename": "ModuleNotFoundError",
     "evalue": "No module named 'pandas'",
     "output_type": "error",
     "traceback": [
      "\u001b[0;31m---------------------------------------------------------------------------\u001b[0m",
      "\u001b[0;31mModuleNotFoundError\u001b[0m                       Traceback (most recent call last)",
      "Cell \u001b[0;32mIn[3], line 2\u001b[0m\n\u001b[1;32m      1\u001b[0m \u001b[39mimport\u001b[39;00m \u001b[39mmatplotlib\u001b[39;00m\u001b[39m.\u001b[39;00m\u001b[39mpyplot\u001b[39;00m \u001b[39mas\u001b[39;00m \u001b[39mplt\u001b[39;00m\n\u001b[0;32m----> 2\u001b[0m \u001b[39mimport\u001b[39;00m \u001b[39mpandas\u001b[39;00m \u001b[39mas\u001b[39;00m \u001b[39mpd\u001b[39;00m\n\u001b[1;32m      4\u001b[0m data[\u001b[39m'\u001b[39m\u001b[39mdate\u001b[39m\u001b[39m'\u001b[39m] \u001b[39m=\u001b[39m pd\u001b[39m.\u001b[39mto_datetime(data[\u001b[39m'\u001b[39m\u001b[39mdate\u001b[39m\u001b[39m'\u001b[39m])\n\u001b[1;32m      5\u001b[0m \u001b[39m# date vs open\u001b[39;00m\n\u001b[1;32m      6\u001b[0m \u001b[39m# date vs close\u001b[39;00m\n",
      "\u001b[0;31mModuleNotFoundError\u001b[0m: No module named 'pandas'"
     ]
    }
   ],
   "source": [
    "import matplotlib.pyplot as plt\n",
    "import pandas as pd\n",
    "\n",
    "\n",
    "\n",
    "data['date'] = pd.to_datetime(data['date'])\n",
    "# date vs open\n",
    "# date vs close\n",
    "plt.figure(figsize=(15, 8))\n",
    "for index, company in enumerate(companies, 1):\n",
    "    plt.subplot(3, 3, index)\n",
    "    c = data[data['Name'] == company]\n",
    "    plt.plot(c['date'], c['open'], c=\"g\", label=\"open\", marker=\"^\")\n",
    "    plt.title(company)\n",
    "    plt.legend()\n",
    "    plt.tight_layout()"
   ]
  }
 ],
 "metadata": {
  "kernelspec": {
   "display_name": "Python 3",
   "language": "python",
   "name": "python3"
  },
  "language_info": {
   "codemirror_mode": {
    "name": "ipython",
    "version": 3
   },
   "file_extension": ".py",
   "mimetype": "text/x-python",
   "name": "python",
   "nbconvert_exporter": "python",
   "pygments_lexer": "ipython3",
   "version": "3.11.3"
  },
  "orig_nbformat": 4
 },
 "nbformat": 4,
 "nbformat_minor": 2
}
